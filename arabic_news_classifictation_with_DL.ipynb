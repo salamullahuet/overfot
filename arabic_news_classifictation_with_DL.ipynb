{
  "nbformat": 4,
  "nbformat_minor": 0,
  "metadata": {
    "colab": {
      "name": "arabic news classifictation with DL.ipynb",
      "provenance": []
    },
    "kernelspec": {
      "name": "python3",
      "display_name": "Python 3"
    },
    "accelerator": "GPU"
  },
  "cells": [
    {
      "cell_type": "code",
      "metadata": {
        "id": "soVTAFHx7VTq"
      },
      "source": [
        "#let's strat with bismillah"
      ],
      "execution_count": 2,
      "outputs": []
    },
    {
      "cell_type": "markdown",
      "metadata": {
        "id": "m--o4VdpCgDo"
      },
      "source": [
        "## **import libraries**"
      ]
    },
    {
      "cell_type": "code",
      "metadata": {
        "id": "MHqm9jf18gSt"
      },
      "source": [
        "# libraries\r\n",
        "\r\n",
        "import numpy as np \r\n",
        "import pandas as pd \r\n",
        "import matplotlib.pyplot as plt\r\n",
        "np.random.seed(32)\r\n",
        "\r\n",
        "\r\n",
        "from sklearn.model_selection import train_test_split\r\n",
        "from sklearn.metrics import roc_auc_score\r\n",
        "from sklearn.manifold import TSNE\r\n",
        "\r\n",
        "from keras.preprocessing.text import Tokenizer\r\n",
        "from keras.preprocessing.sequence import pad_sequences\r\n",
        "from keras.layers import LSTM, Conv1D, MaxPooling1D, Dropout\r\n",
        "from keras.utils.np_utils import to_categorical\r\n",
        "from sklearn.preprocessing import LabelBinarizer, LabelEncoder\r\n",
        "from keras.callbacks import EarlyStopping\r\n",
        "\r\n",
        "%matplotlib inline"
      ],
      "execution_count": 3,
      "outputs": []
    },
    {
      "cell_type": "markdown",
      "metadata": {
        "id": "fc-2LGPOCrDn"
      },
      "source": [
        "## **### The dataset**"
      ]
    },
    {
      "cell_type": "code",
      "metadata": {
        "id": "iXflDQ_g8pml"
      },
      "source": [
        "data = pd.read_csv(\"arabic_categorization_data.csv\")"
      ],
      "execution_count": 4,
      "outputs": []
    },
    {
      "cell_type": "code",
      "metadata": {
        "colab": {
          "base_uri": "https://localhost:8080/",
          "height": 191
        },
        "id": "27u1P-8182b9",
        "outputId": "1f878a31-d63c-420f-82ae-95a7771abecf"
      },
      "source": [
        "data.head()"
      ],
      "execution_count": 5,
      "outputs": [
        {
          "output_type": "execute_result",
          "data": {
            "text/html": [
              "<div>\n",
              "<style scoped>\n",
              "    .dataframe tbody tr th:only-of-type {\n",
              "        vertical-align: middle;\n",
              "    }\n",
              "\n",
              "    .dataframe tbody tr th {\n",
              "        vertical-align: top;\n",
              "    }\n",
              "\n",
              "    .dataframe thead th {\n",
              "        text-align: right;\n",
              "    }\n",
              "</style>\n",
              "<table border=\"1\" class=\"dataframe\">\n",
              "  <thead>\n",
              "    <tr style=\"text-align: right;\">\n",
              "      <th></th>\n",
              "      <th>Unnamed: 0</th>\n",
              "      <th>text</th>\n",
              "      <th>type</th>\n",
              "    </tr>\n",
              "  </thead>\n",
              "  <tbody>\n",
              "    <tr>\n",
              "      <th>0</th>\n",
              "      <td>0</td>\n",
              "      <td>\\nأشرف رئيس الجمهورية الباجي قايد السبسي اليوم...</td>\n",
              "      <td>culture</td>\n",
              "    </tr>\n",
              "    <tr>\n",
              "      <th>1</th>\n",
              "      <td>1</td>\n",
              "      <td>\\nتحصل كتاب \"المصحف وقراءاته\" الذي ألفه باحثون...</td>\n",
              "      <td>culture</td>\n",
              "    </tr>\n",
              "    <tr>\n",
              "      <th>2</th>\n",
              "      <td>2</td>\n",
              "      <td>\\nاستنكرت إدارة المسرح الوطني التونسي الحملة ا...</td>\n",
              "      <td>culture</td>\n",
              "    </tr>\n",
              "    <tr>\n",
              "      <th>3</th>\n",
              "      <td>3</td>\n",
              "      <td>\\nاحتضن جناح تونس في القرية الدولية للأفلام بم...</td>\n",
              "      <td>culture</td>\n",
              "    </tr>\n",
              "    <tr>\n",
              "      <th>4</th>\n",
              "      <td>4</td>\n",
              "      <td>\\nشهدت برلين أمس الجمعة افتتاح مسجد فريد من نو...</td>\n",
              "      <td>culture</td>\n",
              "    </tr>\n",
              "  </tbody>\n",
              "</table>\n",
              "</div>"
            ],
            "text/plain": [
              "   Unnamed: 0                                               text     type\n",
              "0           0  \\nأشرف رئيس الجمهورية الباجي قايد السبسي اليوم...  culture\n",
              "1           1  \\nتحصل كتاب \"المصحف وقراءاته\" الذي ألفه باحثون...  culture\n",
              "2           2  \\nاستنكرت إدارة المسرح الوطني التونسي الحملة ا...  culture\n",
              "3           3  \\nاحتضن جناح تونس في القرية الدولية للأفلام بم...  culture\n",
              "4           4  \\nشهدت برلين أمس الجمعة افتتاح مسجد فريد من نو...  culture"
            ]
          },
          "metadata": {
            "tags": []
          },
          "execution_count": 5
        }
      ]
    },
    {
      "cell_type": "code",
      "metadata": {
        "colab": {
          "base_uri": "https://localhost:8080/"
        },
        "id": "v53q6tua87yb",
        "outputId": "65b9f378-39aa-491f-f082-e56dcdbe3d99"
      },
      "source": [
        "data.keys()"
      ],
      "execution_count": 6,
      "outputs": [
        {
          "output_type": "execute_result",
          "data": {
            "text/plain": [
              "Index(['Unnamed: 0', 'text', 'type'], dtype='object')"
            ]
          },
          "metadata": {
            "tags": []
          },
          "execution_count": 6
        }
      ]
    },
    {
      "cell_type": "code",
      "metadata": {
        "colab": {
          "base_uri": "https://localhost:8080/"
        },
        "id": "kp95CA7k9CxM",
        "outputId": "21c75504-fee3-4564-da51-91884bf22f90"
      },
      "source": [
        "data.type"
      ],
      "execution_count": 7,
      "outputs": [
        {
          "output_type": "execute_result",
          "data": {
            "text/plain": [
              "0          culture\n",
              "1          culture\n",
              "2          culture\n",
              "3          culture\n",
              "4          culture\n",
              "           ...    \n",
              "10361    localnews\n",
              "10362    localnews\n",
              "10363    localnews\n",
              "10364    localnews\n",
              "10365    localnews\n",
              "Name: type, Length: 10366, dtype: object"
            ]
          },
          "metadata": {
            "tags": []
          },
          "execution_count": 7
        }
      ]
    },
    {
      "cell_type": "code",
      "metadata": {
        "id": "UuyO4lzE9HMH"
      },
      "source": [
        "train_text, test_text, train_y, test_y = train_test_split(data['text'],data['type'],test_size = 0.2, random_state=2019)"
      ],
      "execution_count": 8,
      "outputs": []
    },
    {
      "cell_type": "markdown",
      "metadata": {
        "id": "7X7xiyZ5DBYV"
      },
      "source": [
        "## **Preprocessing text for the CBOW model**"
      ]
    },
    {
      "cell_type": "code",
      "metadata": {
        "colab": {
          "base_uri": "https://localhost:8080/"
        },
        "id": "GHMJeMry9Q0l",
        "outputId": "278ed4e2-f152-4547-a702-6f737031ff77"
      },
      "source": [
        "MAX_NB_WORDS = 20000\r\n",
        "\r\n",
        "# get the raw text data\r\n",
        "texts_train = train_text.astype(str)\r\n",
        "texts_test = test_text.astype(str)\r\n",
        "\r\n",
        "# finally, vectorize the text samples into a 2D integer tensor\r\n",
        "tokenizer = Tokenizer(nb_words=MAX_NB_WORDS, char_level=False)\r\n",
        "tokenizer.fit_on_texts(texts_train)\r\n",
        "sequences = tokenizer.texts_to_sequences(texts_train)\r\n",
        "sequences_test = tokenizer.texts_to_sequences(texts_test)\r\n",
        "\r\n",
        "word_index = tokenizer.word_index\r\n",
        "print('Found %s unique tokens.' % len(word_index))"
      ],
      "execution_count": 9,
      "outputs": [
        {
          "output_type": "stream",
          "text": [
            "/usr/local/lib/python3.6/dist-packages/keras_preprocessing/text.py:180: UserWarning: The `nb_words` argument in `Tokenizer` has been renamed `num_words`.\n",
            "  warnings.warn('The `nb_words` argument in `Tokenizer` '\n"
          ],
          "name": "stderr"
        },
        {
          "output_type": "stream",
          "text": [
            "Found 90787 unique tokens.\n"
          ],
          "name": "stdout"
        }
      ]
    },
    {
      "cell_type": "code",
      "metadata": {
        "colab": {
          "base_uri": "https://localhost:8080/"
        },
        "id": "YUcf92uI9YmE",
        "outputId": "8b6dfeaa-7916-4d51-cac3-cf671eadbbe6"
      },
      "source": [
        "type(tokenizer.word_index), len(tokenizer.word_index)"
      ],
      "execution_count": 10,
      "outputs": [
        {
          "output_type": "execute_result",
          "data": {
            "text/plain": [
              "(dict, 90787)"
            ]
          },
          "metadata": {
            "tags": []
          },
          "execution_count": 10
        }
      ]
    },
    {
      "cell_type": "code",
      "metadata": {
        "id": "xdoLqef19jHh"
      },
      "source": [
        "index_to_word = dict((i, w) for w, i in tokenizer.word_index.items())"
      ],
      "execution_count": 11,
      "outputs": []
    },
    {
      "cell_type": "code",
      "metadata": {
        "colab": {
          "base_uri": "https://localhost:8080/",
          "height": 51
        },
        "id": "zjQc6vd09n-T",
        "outputId": "607682b9-7b32-4dfb-ab02-9956d7978ceb"
      },
      "source": [
        "\" \".join([index_to_word[i] for i in sequences[0]])"
      ],
      "execution_count": 12,
      "outputs": [
        {
          "output_type": "execute_result",
          "data": {
            "application/vnd.google.colaboratory.intrinsic+json": {
              "type": "string"
            },
            "text/plain": [
              "'أدى وزير التربية، ناجي جلول مساء أمس الاثنين زيارة فجئية إلى المدرسة الإعدادية بالنفيضة وقد تحدّث الوزير مع عدد من التلاميذ عن ظروف الدراسة والإقامة بالمدرسة الإعدادية المذكورة، كما قام أيضا بزيارة المطعم أين عاين جملة من الإخلالات'"
            ]
          },
          "metadata": {
            "tags": []
          },
          "execution_count": 12
        }
      ]
    },
    {
      "cell_type": "code",
      "metadata": {
        "colab": {
          "base_uri": "https://localhost:8080/"
        },
        "id": "A-jdGweb9son",
        "outputId": "abe395b2-9fce-4c43-9648-8181a174d195"
      },
      "source": [
        "seq_lens = [len(s) for s in sequences]\r\n",
        "print(\"average length: %0.1f\" % np.mean(seq_lens))\r\n",
        "print(\"max length: %d\" % max(seq_lens))"
      ],
      "execution_count": 13,
      "outputs": [
        {
          "output_type": "stream",
          "text": [
            "average length: 98.7\n",
            "max length: 961\n"
          ],
          "name": "stdout"
        }
      ]
    },
    {
      "cell_type": "code",
      "metadata": {
        "colab": {
          "base_uri": "https://localhost:8080/",
          "height": 265
        },
        "id": "CKzRAb_O91YD",
        "outputId": "38bea917-a58b-4703-8833-ebe1c11ec22e"
      },
      "source": [
        "%matplotlib inline\r\n",
        "import matplotlib.pyplot as plt\r\n",
        "\r\n",
        "plt.hist(seq_lens, bins=50);"
      ],
      "execution_count": 14,
      "outputs": [
        {
          "output_type": "display_data",
          "data": {
            "image/png": "[encoded data removed]",
            "text/plain": [
              "<Figure size 432x288 with 1 Axes>"
            ]
          },
          "metadata": {
            "tags": [],
            "needs_background": "light"
          }
        }
      ]
    },
    {
      "cell_type": "code",
      "metadata": {
        "colab": {
          "base_uri": "https://localhost:8080/",
          "height": 265
        },
        "id": "RYSZNxyG98N3",
        "outputId": "defc04b6-25bd-4ee5-95ef-c51272072b6d"
      },
      "source": [
        "plt.hist([l for l in seq_lens if l < 400], bins=50);"
      ],
      "execution_count": 15,
      "outputs": [
        {
          "output_type": "display_data",
          "data": {
            "image/png": "[encoded data removed]",
            "text/plain": [
              "<Figure size 432x288 with 1 Axes>"
            ]
          },
          "metadata": {
            "tags": [],
            "needs_background": "light"
          }
        }
      ]
    },
    {
      "cell_type": "code",
      "metadata": {
        "colab": {
          "base_uri": "https://localhost:8080/"
        },
        "id": "rz5txxrj-DIf",
        "outputId": "10b804f2-168f-4c51-c4e4-de7f884df8f2"
      },
      "source": [
        "# pad vectors to maximum length\r\n",
        "MAX_SEQUENCE_LENGTH = 300\r\n",
        "\r\n",
        "# pad sequences with 0s\r\n",
        "x_train = pad_sequences(sequences, maxlen=MAX_SEQUENCE_LENGTH)\r\n",
        "x_test = pad_sequences(sequences_test, maxlen=MAX_SEQUENCE_LENGTH)\r\n",
        "print('Shape of data tensor:', x_train.shape)\r\n",
        "print('Shape of data test tensor:', x_test.shape)"
      ],
      "execution_count": 16,
      "outputs": [
        {
          "output_type": "stream",
          "text": [
            "Shape of data tensor: (8292, 300)\n",
            "Shape of data test tensor: (2074, 300)\n"
          ],
          "name": "stdout"
        }
      ]
    },
    {
      "cell_type": "code",
      "metadata": {
        "id": "MAp-MExI-JGS"
      },
      "source": [
        "# encode y data labels\r\n",
        "encoder = LabelEncoder()\r\n",
        "encoder.fit(train_y)\r\n",
        "y_train = encoder.transform(train_y)\r\n",
        "y_test = encoder.transform(test_y)"
      ],
      "execution_count": 17,
      "outputs": []
    },
    {
      "cell_type": "code",
      "metadata": {
        "colab": {
          "base_uri": "https://localhost:8080/"
        },
        "id": "b1Fp5Sxx-Qn5",
        "outputId": "20e99673-1cb8-4815-ccc2-d67eaffcbc0a"
      },
      "source": [
        "# Converts the labels to a one-hot representation\r\n",
        "N_CLASSES = np.max(y_train) + 1\r\n",
        "y_train = to_categorical(y_train, N_CLASSES)\r\n",
        "y_test = to_categorical(y_test, N_CLASSES)\r\n",
        "print('Shape of label tensor:', y_train.shape)"
      ],
      "execution_count": 18,
      "outputs": [
        {
          "output_type": "stream",
          "text": [
            "Shape of label tensor: (8292, 9)\n"
          ],
          "name": "stdout"
        }
      ]
    },
    {
      "cell_type": "code",
      "metadata": {
        "id": "VCGNhmqc-Vcl"
      },
      "source": [
        "from keras.layers import Dense, Input, Flatten\r\n",
        "from keras.layers import GlobalAveragePooling1D, Embedding\r\n",
        "from keras.models import Model\r\n",
        "\r\n",
        "EMBEDDING_DIM = 50\r\n",
        "\r\n",
        "# input: a sequence of MAX_SEQUENCE_LENGTH integers\r\n",
        "sequence_input = Input(shape=(MAX_SEQUENCE_LENGTH,), dtype='int32')\r\n",
        "\r\n",
        "embedding_layer = Embedding(MAX_NB_WORDS, EMBEDDING_DIM,\r\n",
        "                            input_length=MAX_SEQUENCE_LENGTH,\r\n",
        "                            trainable=True)\r\n",
        "\r\n",
        "embedded_sequences = embedding_layer(sequence_input)\r\n",
        "\r\n",
        "average = GlobalAveragePooling1D()(embedded_sequences)\r\n",
        "predictions = Dense(N_CLASSES, activation='softmax')(average)\r\n",
        "\r\n",
        "model = Model(sequence_input, predictions)\r\n",
        "model.compile(loss='categorical_crossentropy',\r\n",
        "              optimizer='adam', metrics=['acc'])"
      ],
      "execution_count": 19,
      "outputs": []
    },
    {
      "cell_type": "code",
      "metadata": {
        "colab": {
          "base_uri": "https://localhost:8080/"
        },
        "id": "R2o3rymE-fQK",
        "outputId": "482ff65f-718a-4a02-fdd8-1c33c5708497"
      },
      "source": [
        "model.fit(x_train, y_train, validation_split=0.2,\r\n",
        "          epochs=40, batch_size=128, callbacks=[EarlyStopping(monitor='val_loss',min_delta=0.0001)])"
      ],
      "execution_count": 22,
      "outputs": [
        {
          "output_type": "stream",
          "text": [
            "Epoch 1/40\n",
            "52/52 [==============================] - 2s 20ms/step - loss: 2.1476 - acc: 0.3347 - val_loss: 1.9824 - val_acc: 0.4653\n",
            "Epoch 2/40\n",
            "52/52 [==============================] - 1s 16ms/step - loss: 1.9171 - acc: 0.4673 - val_loss: 1.7252 - val_acc: 0.4647\n",
            "Epoch 3/40\n",
            "52/52 [==============================] - 1s 16ms/step - loss: 1.7103 - acc: 0.4521 - val_loss: 1.6229 - val_acc: 0.4647\n",
            "Epoch 4/40\n",
            "52/52 [==============================] - 1s 15ms/step - loss: 1.6071 - acc: 0.4701 - val_loss: 1.5830 - val_acc: 0.4665\n",
            "Epoch 5/40\n",
            "52/52 [==============================] - 1s 15ms/step - loss: 1.5883 - acc: 0.4685 - val_loss: 1.5472 - val_acc: 0.4684\n",
            "Epoch 6/40\n",
            "52/52 [==============================] - 1s 15ms/step - loss: 1.5306 - acc: 0.4714 - val_loss: 1.5089 - val_acc: 0.4744\n",
            "Epoch 7/40\n",
            "52/52 [==============================] - 1s 15ms/step - loss: 1.4907 - acc: 0.4759 - val_loss: 1.4680 - val_acc: 0.4846\n",
            "Epoch 8/40\n",
            "52/52 [==============================] - 1s 15ms/step - loss: 1.4333 - acc: 0.4941 - val_loss: 1.4243 - val_acc: 0.5027\n",
            "Epoch 9/40\n",
            "52/52 [==============================] - 1s 14ms/step - loss: 1.3824 - acc: 0.5185 - val_loss: 1.3789 - val_acc: 0.5232\n",
            "Epoch 10/40\n",
            "52/52 [==============================] - 1s 16ms/step - loss: 1.3496 - acc: 0.5315 - val_loss: 1.3322 - val_acc: 0.5461\n",
            "Epoch 11/40\n",
            "52/52 [==============================] - 1s 14ms/step - loss: 1.3084 - acc: 0.5444 - val_loss: 1.2848 - val_acc: 0.5678\n",
            "Epoch 12/40\n",
            "52/52 [==============================] - 1s 15ms/step - loss: 1.2445 - acc: 0.5806 - val_loss: 1.2380 - val_acc: 0.5829\n",
            "Epoch 13/40\n",
            "52/52 [==============================] - 1s 15ms/step - loss: 1.2012 - acc: 0.5920 - val_loss: 1.1912 - val_acc: 0.5949\n",
            "Epoch 14/40\n",
            "52/52 [==============================] - 1s 15ms/step - loss: 1.1590 - acc: 0.6034 - val_loss: 1.1455 - val_acc: 0.6142\n",
            "Epoch 15/40\n",
            "52/52 [==============================] - 1s 15ms/step - loss: 1.0915 - acc: 0.6287 - val_loss: 1.1022 - val_acc: 0.6215\n",
            "Epoch 16/40\n",
            "52/52 [==============================] - 1s 14ms/step - loss: 1.0253 - acc: 0.6570 - val_loss: 1.0600 - val_acc: 0.6389\n",
            "Epoch 17/40\n",
            "52/52 [==============================] - 1s 14ms/step - loss: 0.9983 - acc: 0.6723 - val_loss: 1.0203 - val_acc: 0.6444\n",
            "Epoch 18/40\n",
            "52/52 [==============================] - 1s 14ms/step - loss: 0.9283 - acc: 0.6932 - val_loss: 0.9831 - val_acc: 0.6558\n",
            "Epoch 19/40\n",
            "52/52 [==============================] - 1s 14ms/step - loss: 0.8851 - acc: 0.7095 - val_loss: 0.9485 - val_acc: 0.6805\n",
            "Epoch 20/40\n",
            "52/52 [==============================] - 1s 14ms/step - loss: 0.8571 - acc: 0.7204 - val_loss: 0.9161 - val_acc: 0.6841\n",
            "Epoch 21/40\n",
            "52/52 [==============================] - 1s 14ms/step - loss: 0.8170 - acc: 0.7284 - val_loss: 0.8858 - val_acc: 0.6956\n",
            "Epoch 22/40\n",
            "52/52 [==============================] - 1s 14ms/step - loss: 0.7886 - acc: 0.7438 - val_loss: 0.8585 - val_acc: 0.7149\n",
            "Epoch 23/40\n",
            "52/52 [==============================] - 1s 15ms/step - loss: 0.7407 - acc: 0.7671 - val_loss: 0.8338 - val_acc: 0.7288\n",
            "Epoch 24/40\n",
            "52/52 [==============================] - 1s 15ms/step - loss: 0.7084 - acc: 0.7843 - val_loss: 0.8105 - val_acc: 0.7342\n",
            "Epoch 25/40\n",
            "52/52 [==============================] - 1s 14ms/step - loss: 0.7020 - acc: 0.7787 - val_loss: 0.7890 - val_acc: 0.7402\n",
            "Epoch 26/40\n",
            "52/52 [==============================] - 1s 14ms/step - loss: 0.6626 - acc: 0.7972 - val_loss: 0.7699 - val_acc: 0.7432\n",
            "Epoch 27/40\n",
            "52/52 [==============================] - 1s 14ms/step - loss: 0.6304 - acc: 0.7994 - val_loss: 0.7519 - val_acc: 0.7547\n",
            "Epoch 28/40\n",
            "52/52 [==============================] - 1s 15ms/step - loss: 0.6072 - acc: 0.8076 - val_loss: 0.7358 - val_acc: 0.7571\n",
            "Epoch 29/40\n",
            "52/52 [==============================] - 1s 15ms/step - loss: 0.5719 - acc: 0.8233 - val_loss: 0.7211 - val_acc: 0.7613\n",
            "Epoch 30/40\n",
            "52/52 [==============================] - 1s 15ms/step - loss: 0.5660 - acc: 0.8294 - val_loss: 0.7076 - val_acc: 0.7661\n",
            "Epoch 31/40\n",
            "52/52 [==============================] - 1s 14ms/step - loss: 0.5399 - acc: 0.8377 - val_loss: 0.6956 - val_acc: 0.7679\n",
            "Epoch 32/40\n",
            "52/52 [==============================] - 1s 14ms/step - loss: 0.5174 - acc: 0.8467 - val_loss: 0.6837 - val_acc: 0.7782\n",
            "Epoch 33/40\n",
            "52/52 [==============================] - 1s 14ms/step - loss: 0.5152 - acc: 0.8500 - val_loss: 0.6735 - val_acc: 0.7788\n",
            "Epoch 34/40\n",
            "52/52 [==============================] - 1s 14ms/step - loss: 0.4912 - acc: 0.8568 - val_loss: 0.6634 - val_acc: 0.7830\n",
            "Epoch 35/40\n",
            "52/52 [==============================] - 1s 17ms/step - loss: 0.4767 - acc: 0.8590 - val_loss: 0.6541 - val_acc: 0.7842\n",
            "Epoch 36/40\n",
            "52/52 [==============================] - 1s 15ms/step - loss: 0.4528 - acc: 0.8690 - val_loss: 0.6460 - val_acc: 0.7860\n",
            "Epoch 37/40\n",
            "52/52 [==============================] - 1s 14ms/step - loss: 0.4275 - acc: 0.8732 - val_loss: 0.6384 - val_acc: 0.7878\n",
            "Epoch 38/40\n",
            "52/52 [==============================] - 1s 15ms/step - loss: 0.4244 - acc: 0.8749 - val_loss: 0.6314 - val_acc: 0.7902\n",
            "Epoch 39/40\n",
            "52/52 [==============================] - 1s 15ms/step - loss: 0.4024 - acc: 0.8885 - val_loss: 0.6245 - val_acc: 0.7957\n",
            "Epoch 40/40\n",
            "52/52 [==============================] - 1s 15ms/step - loss: 0.4021 - acc: 0.8855 - val_loss: 0.6186 - val_acc: 0.7987\n"
          ],
          "name": "stdout"
        },
        {
          "output_type": "execute_result",
          "data": {
            "text/plain": [
              "<tensorflow.python.keras.callbacks.History at 0x7f04a372c5f8>"
            ]
          },
          "metadata": {
            "tags": []
          },
          "execution_count": 22
        }
      ]
    },
    {
      "cell_type": "code",
      "metadata": {
        "colab": {
          "base_uri": "https://localhost:8080/"
        },
        "id": "PjRUwAf_-nDz",
        "outputId": "c237dc7f-4126-42ce-f24f-698335529908"
      },
      "source": [
        "output_test = model.predict(x_test)\r\n",
        "print(\"test auc:\", roc_auc_score(y_test,output_test))"
      ],
      "execution_count": 23,
      "outputs": [
        {
          "output_type": "stream",
          "text": [
            "test auc: 0.9574300192033264\n"
          ],
          "name": "stdout"
        }
      ]
    },
    {
      "cell_type": "code",
      "metadata": {
        "colab": {
          "base_uri": "https://localhost:8080/"
        },
        "id": "WiUV1idD_WvM",
        "outputId": "9699bacd-e9ee-4962-f317-2153213e5546"
      },
      "source": [
        "# Evaluate the accuracy of our trained model\r\n",
        "score = model.evaluate(x_test, y_test,\r\n",
        "                       batch_size=64, verbose=1)\r\n",
        "print('Test loss:', score[0])\r\n",
        "print('Test accuracy:', score[1])"
      ],
      "execution_count": 24,
      "outputs": [
        {
          "output_type": "stream",
          "text": [
            "33/33 [==============================] - 0s 3ms/step - loss: 0.6439 - acc: 0.7734\n",
            "Test loss: 0.6439371109008789\n",
            "Test accuracy: 0.7733847498893738\n"
          ],
          "name": "stdout"
        }
      ]
    },
    {
      "cell_type": "code",
      "metadata": {
        "colab": {
          "base_uri": "https://localhost:8080/"
        },
        "id": "ALKAWudl_eus",
        "outputId": "6efb295e-2a7c-477d-e28d-dea09382a12e"
      },
      "source": [
        "# Here's how to generate a prediction on individual examples\r\n",
        "text_labels = encoder.classes_ \r\n",
        "\r\n",
        "for i in range(50,80):\r\n",
        "    prediction = model.predict(np.array([x_test[i]]))\r\n",
        "    predicted_label = text_labels[np.argmax(prediction)]\r\n",
        "    print(texts_test.iloc[i], \"...\")\r\n",
        "    print('Actual label:' + test_y.iloc[i])\r\n",
        "    print(\"Predicted label: \" + predicted_label + \"\\n\")  "
      ],
      "execution_count": 25,
      "outputs": [
        {
          "output_type": "stream",
          "text": [
            "\n",
            "سلّم حسين العباسي، اليوم الجمعة مهام الأمانة العامة للاتحاد العام التونسي للشغل للأمين العام الجديد، نور الدين الطبوبي وذلك بحضور أعضاء المكتب التنفيذي الوطني وثلة من النقابيين.\n",
            " ...\n",
            "Actual label:localnews\n",
            "Predicted label: localnews\n",
            "\n",
            "\n",
            "توج لاعب التونسي مالك الجزيري ببطولة إسطنبول التركية للتنس بعد فوزه في الدور النهائي على منافس من الكيان الصهيوني بنتيجة شوطين لشوط تفاصيلها 1-6 . 6-0 . 6 - 0 .\n",
            " ...\n",
            "Actual label:sport\n",
            "Predicted label: sport\n",
            "\n",
            "\n",
            "تنظم الهيئة التنفيذية لتظاهرة صفاقس عاصمة للثقافة العربية 2016 مسابقة مفتوحة أمام الفنانين التشكيليين والنحاتين من تونس وكل البلدان العربية لتصميم وانجاز نصب تذكاري للتظاهرة حسب ما أكده مراسل الجوهرة \"اف ام\".\n",
            "وتندرج هذه المسابقة في اطار حاجة مدينة صفاقس لنصب تذكاري يليق بها ويؤرخ لتألقها و تميزها ، وتتمثل شروط المشاركة في تكوين ملف تقني يتضمن المادة التي سيصنع منها النصب و نموذج له باعتماد تقنيات ثلاثية الأبعاد .  \n",
            " ...\n",
            "Actual label:culture\n",
            "Predicted label: localnews\n",
            "\n",
            "\n",
            "قال كمال الزبع الكاتب العام لنقابة قوات الأمن فوج مدنين والمنسق الجهوي لنقابة قوات الأمن الداخلي والديوانة بمنطقة الجنوب الشرقي أن القوات الأمنية جاهزة لتأمين ظروف انطلاق حج اليهود بالغريبة وإنجاحه، وذلك بالتنسيق مع الوحدات العسكرية.\n",
            "وأشار في تصريح لوكالة تونس افريقيا للأنباء صباح اليوم الجمعة إلى توفر الدعم اللوجيستي وانطلاق التحضير لموسم الغريبة منذ فترة بالجهة استعدادا لهذا الحدث، مؤكدا جاهزية الوحدات الأمنية رغم وجود احتجاجات تشهدها عدة مناطق من شأنها تشتيت المجهود الأمني، وفق تقديره. وأضاف أن نجاح موسم الغريبة يعد مؤشرا لنجاح الموسم السياحي بالنظر إلى حجم الوفود القادمة هذه السنة. يشار إلى أن مداخل جزيرة جربة تشهد تواجدا أمنيا مكثفا، إلى جانب اجراء عمليات مراقبة وتفتيش خاصة من جهة القنطرة والبطاح حيث تم تركيز وحدتي سكانار للتفتيش، مع وجود نقاط تفتيش ومراقبة قارة ومتنقلة في كامل ارجاء الجزيرة على الطرقات المعبدة وبالمسالك الترابية وعلى الشريط البحري. يذكر أن عدد زوار الغريبة سيتضاعف هذا العام بثلاث مرات مقارنة بالسنة الماضية وذلك بتوافد 2000 زائر من خارج تونس ونحو 15000 زائرا من الجالية اليهودية بتونس، وفق ما أكده منظّم رحلات زيارة كنيس الغريبة روني الطرابلسي، الذي أوضح أن اليهود القادمين من الخارج سيتوافدون من عدة بلدان على غرار فرنسا وأمريكا وكندا وبلدان اخرى لم تسجل بعد عودتها الى تونس سياحيا. \n",
            " ...\n",
            "Actual label:localnews\n",
            "Predicted label: localnews\n",
            "\n",
            "\n",
            "سقط 16 شخصاً وأصيب 35 آخرين في انفجار داخل الكنيسة المرقسية في منطقة المنشية بـالاسكندرية، وفق وزارة الصحة المصرية.\n",
            "وتم نشر فيديو على المواقع الاجتماعية يظهر فيه طفل وهو يلعب بباحة الكنيسة قبل وقوع التفجير بلحظات.  \n",
            " ...\n",
            "Actual label:internationalNews\n",
            "Predicted label: internationalNews\n",
            "\n",
            "\n",
            "تمكنت وحدات الحرس البحري بسوسة اليوم من انتشال جثة شاب يبلغ من العمر 27 سنة بالقرب من ميناء سوسة. \n",
            "وعلمت \"الجوهرة أف أم\" من مصادر مطلعة أن الهالك فقد منذ حوالي شهر وذلك بعد أن أخبر عائلته بأنه ينوي اجتياز الحدود البحرية خلسة.\n",
            " ...\n",
            "Actual label:society\n",
            "Predicted label: society\n",
            "\n",
            "\n",
            "تعلم الوكالة الوطنيّة للتشغيل والعمل المستقل أن باب التّرشح للانتفاع ببرنامج \"عقد الكرامة\" سيفتح بداية من يوم الأربعاء 15 مارس 2017 وإلى غاية يوم 25 مارس 2017.\n",
            "ودعت الوكالة طالبي الشغل الرّاغبين في الانخراط في البرنامج إلى تقديم ترشحاتهم عبر موقع واب الوكالة التالي : https://goo.gl/YkzYZ5  وينتفع بهذا البرنامج طالبو الشغل لأوّل مرّة المسجّلون بمكاتب التشغيل والعمل المستقل والمحرزون على شهادة جامعية وطنية أو على شهادة معادلة أو على مؤهل التقني السامي (شهادة منظرة) والذين لا تقل فترة بطالتهم عن سنتين بداية من تاريخ الحصول على الشهادة. وقال وزير التكوين المهني والتشغيل، عماد الحمامي إن هذا البرنامج سيمكن طالبي الشغل من أصحاب الشهادات العليا (25 الف منتفع ) من فرص عمل عن طريق عقد شغل \"حقيقي\" يخضع لقوانين التشغيل ويضمن كامل الحقوق للمنتفعين، الذين سيتقاضون على مدى سنتين أجرا شهريا قدره 600 دينار.\n",
            " ...\n",
            "Actual label:localnews\n",
            "Predicted label: localnews\n",
            "\n",
            "\n",
            "أعلنت وزارة الداخلية في بلاغ لها اليوم الأربعاء 3 فيفري 2016 أن الوحدات الأمنية بصفاقس تمكنت من إلقاء القبض على شخص بتهمة سرقة سيارة تابعة للشركة الوطنية لإستغلال وتوزيع المياه.\n",
            " ...\n",
            "Actual label:localnews\n",
            "Predicted label: localnews\n",
            "\n",
            "\n",
            "افتتحت WIKI فرعا جديدا في سوسة، وذلك في شارع فيكتور هيغو (تروكاديرو) ليصبح بذلك عدد مغازاتها في تونس 15 ، موزعين على مختلف مناطق البلاد. \n",
            "وتتيح مغازات WIKI لحرفائها خيارات واسعة من الهواتف الجوالة والحواسيب ومختلف الأجهزة الإلكترونية من خلال شراكة مع أكبر الماركات العالمية على غرار Acer Tunisie, Asus Tunisie, Dell Tunisie, HP Tunisie, Lenovo Tunisie Samsung , Apple, Evertek, Versus , Huawei، بأسعار هي الأقل في تونس كما توفر لهم خدمة التوصيل لكل المقتنيات. ويمكن الإطلاع على مختلف المنتجات لدى WIKI وأسعارها عبر موقعها على الانترنات : Wiki.tn\n",
            " ...\n",
            "Actual label:technology\n",
            "Predicted label: localnews\n",
            "\n",
            "\n",
            "كشفت وزارة التجارة بأن فرق المراقبة الاقتصادية التابعة لها رفعت 1046 مخالفة اقتصادية في النصف الثاني من شهر رمضان بعد اجرائها لزيارات مراقبة لمتابعة جودة وسلامة ترويج مستلزمات خاصة بعيد الفطر على غرار الملابس والحلويات ولعب الاطفال.\n",
            "وفيما يتعلق بمراقبة ترويج لعب الأطفال، فقد اقدمت مصالح المراقبة بالوزارة خلال زيارتها لنقاط البيع الخاصة بهذه المواد على حجز 21239 لعبة واتلاف 43168 لعبة لا تستجيب لشروط الصحة والسلامة، بحسب ما أورده بلاغ صدر السبت عن وزارة التجارة . ودعت الوزارة في هذا الاطار عامة المستهلكين الى تجنب اقتناء مستلزمات العيد من المسالك العشوائية والتدقيق في جودة مقتنياتهم وسلامتها وابلاغ السلط المعنية بالحالات غير العادية. واكدت الوزارة \"تواصل الحملات الرقابية في هذا المجال\" في نفس الوقت.\n",
            " ...\n",
            "Actual label:economy\n",
            "Predicted label: localnews\n",
            "\n",
            "\n",
            "استقبلت وحدة الأغالبة للجراحة بالقيروان اليوم الأربعاء 4 أشخاص أصيبوا في الحادث الذي جد اليوم في منطقة خمودة بالقصرين وأودى بحياة الكثيرين.\n",
            "وأوضح فتحي النجار الناظر العام بالمستشفى لمراسل الجوهرة أف أم في الجهة أن المستشفى استقبل ظهر اليوم شخصين وقد تمت إحالتهما إلى قسم الإنعاش وكان المصاب الأول يعاني من حروق والثاني من رضوض في انتظار نتائج الفحص. وأضاف النجار أن المستشفى استقبل على الساعة الثالثة ظهرا امرأة مسنة وطفلا أصيبا أيضا في الحادث.\n",
            " ...\n",
            "Actual label:localnews\n",
            "Predicted label: localnews\n",
            "\n",
            "\n",
            "تمكنت وحدات الحرس الوطني برمادة من ولاية تطاوين، فجر اليوم الجمعة من إلقاء القبض على عنصر وصف ب\"الخطير\" كان يقوم بتسفير شباب رمادة الى ليبيا للالتحاق بالمجموعات الارهابية.\n",
            "وأكد مصدر أمني بالجهة لوكالة تونس افريقيا للأنباء أن هذا العنصر يقوم بتسفير شباب رمادة للالتحاق بتنظيم داعش في سرت وهو في تواصل مع عناصر التنظيم، مضيفا أن التنظيم يعتبره \"عنصر رصد لأهدافه\".\n",
            " ...\n",
            "Actual label:localnews\n",
            "Predicted label: localnews\n",
            "\n",
            "\n",
            "تمت خلال الجلسة العامة المنعقدة اليوم السبت المصادقة على مشروع ميزانية مجلس نواب الشعب لسنة 2017، بموافقة 177 نائبا واحتفاظ 17 نائبا بأصواتهم.\n",
            "وتم ضبط نفقات التصرف والتنمية بمشروع ميزانية المجلس للسنة القادمة في حدود 29،446 مليون دينار، مقابل 32،900 مليون دينار مرسمة سنة 2016، أي بانخفاض قدره 3،454 مليون دينار يعادل نسبة 10،5 بالمائة. وتتوزع ميزانية المجلس بين 28،081 مليون دينار بالنسبة لنفقات التصرف، و1،365 مليون دينار بالنسبة لنفقات التنمية.\n",
            " ...\n",
            "Actual label:economy\n",
            "Predicted label: localnews\n",
            "\n",
            "\n",
            "أعلنت الخطوط الجوية التونسية في بلاغ لها، عن إمكانية حصول إضطرابات أخرى على مستوى رحلاتها اليوم الجمعة جرّاء حالة التوتّر الناشبة بين سلكين من المهنة تابعين للشركة .\n",
            "وأكدت الشركة في بلاغ لها  أنها حريصة على تدارك هذا التأخير الطارئ في أقرب وقت ممكن للحدّ من تداعياته على خدمة الحرفاء الذين تطمئنهم بأن أعوانها سيستأنفون نشاطهم بنسقه العادي في أقرب وقت. كما أكدت أيضا أنها ستتحمّل كامل مسؤولياتها حفاظا على مصلحة كل الحرفاء من جهة ومصلحة الشركة من جهة أخرى .\n",
            " ...\n",
            "Actual label:localnews\n",
            "Predicted label: localnews\n",
            "\n",
            "\n",
            "فاجأ \"الفايسبوك\" مستعمليه في خطوة غير مسبوقة بإبتكار جديد لايقل أهمية عن سابقيه حيث بات بإلإمكان تحويل الأموال عبر خدمة جديدة تسمح لمستخدمي فيسبوك تحويل الأموال عالميا عبر تطبيق التراسل الفوري\" الماسنجر\". \n",
            "فمع احتدام المنافسة في مجال المدفوعات الرقمية وأعلنت شركة \"ترانسفير وايز\"، التي تتخذ من لندن مقرا لها، الثلاثاء، تطوير خاصية \"تاتش بوت\" عبر تطبيق التراسل الفوري لفيسبوك (ماسنجر)، ما يمكن أن يساعد المستخدمين على التواصل مع الشركات وتنفيذ معاملات مثل الشراء عبر الإنترنت. وتتيح الخاصية، التي طورتها الشركة الناشئة، للعملاء إرسال أموال إلى أصدقائهم وأقاربهم من وإلى الولايات المتحدة وبريطانيا وكندا وأستراليا وأوروبا عبر تطبيق التراسل الفوري لفيسبوك، كما يمكن استخدام هذه الخاصية في تلقي إشعارات بأسعار الصرف. ويسمح فيسبوك بالفعل لمستخدميه بإرسال الأموال محليا في الولايات المتحدة عبر تطبيق التراسل الفوري، لكنه لم يدشن خدمات مماثلة على المستوى الدولي. وقالت \"ترانسفير وايز\" إن خدمتها ستكون الأولى، التي تفسح المجال أمام إجراء التحويلات الدولية للأموال بالكامل عبر تطبيق التراسل الفوري. وفتح فيسبوك برنامج التراسل الفوري أمام الشركات المطورة لإنشاء تطبيقات الرد الآلي في أفريل في مسعى للتوسع في مجال خدمة العملاء ومعاملات الشركات. يذكر أن \"ترانسفير وايز\" تأسست عام 2011 وتقدر قيمتها بأكثر من مليار دولار.\n",
            " ...\n",
            "Actual label:internationalNews\n",
            "Predicted label: diverse\n",
            "\n",
            "\n",
            "نشرت الصفحة الرسمية لرئاسة الجمهورية صباح اليوم الجمعة 26 أوت 2016 صورة لرئيس الجمهورية في قصر الرئاسة بقرطاج وهو بصدد متابعة أشغال جلسة منح الثقة لحكومة الوحدة الوطنيّة أثناء الكلمة الافتتاحية لرئيس الحكومة المكلف.\n",
            "ويرافق رئيس الجمهورية كل من الناطق الرسمي لرئاسة الجمهورية معز السيناوي ورئيس الديوان سليم العزابي. \n",
            " ...\n",
            "Actual label:politic\n",
            "Predicted label: localnews\n",
            "\n",
            "\n",
            "تحدث المدير الجهوي للحماية المدنية بسوسة، جلول جاء بالله، للجوهرة أف أم، عن أبرز تدخلات الحماية هذا اليوم على خلفية الأمطار الغزيرة التي تشهدها البلاد.\n",
            "وبيّن جلول، أن إدارة الحماية المدنية بسوسة، ورغم أنها لم تتلقى نداءات استغاثة ذات أهمية كبيرة، إلا أنها تدخلت لإنقاذ عائلة محاصرة في منطقة واقعة بين القلعة الصغرى وحي الرياض بسوسة. كما تسببت الأمطار في قطع الطريق الرابطة بين منطقتي النفيضة وسيدي سعيد. وأشار جلول جاء بالله، إلى أن اللجنة الجهوية لمجابهة الكوارث بولاية سوسة، تواصل اجتماعها لدراسة الوضع لحظة بلحظة، وقد تتخذ قرارا بتعليق الدروس يوم غد السبت في حال تواصل هطول الأمطار بكميات كبيرة وفي حال اقتضت الضرورة، وفق تعبيره.\n",
            " ...\n",
            "Actual label:localnews\n",
            "Predicted label: localnews\n",
            "\n",
            "\n",
            "اعتبر ضيف \"بوليتيكا\"، خميس قسيلة، النائب عن نداء تونس، أن حكومة يوسف الشاهد الحالية ليست حكومة وحدة وطنية.\n",
            "وقال إن \"الوحدة الوطنية\" مجرد تسمية لهذه الحكومة، بحسب تعبيره. وفي سياق متصل، أكد قسيلة أن منظّمتي الأعراف والشغيلة غير موجودتين في الحكومة الحالية، بحسب ترجيحه، مضيفا أن المنظمتين وقعتا فقط على وثيقة مبادئ عامة.\n",
            " ...\n",
            "Actual label:localnews\n",
            "Predicted label: politic\n",
            "\n",
            "\n",
            "اقتحم اليوم الخميس شخص مجهول بنكا في مدينة دويسبورغ الألمانية وقام باحتجاز عدد من الرهائن داخل المبنى.\n",
            "وقال شهود عيان إن المهاجم كان مسلحا وأنه قام باحتجاز رجل وامرأة يعملان في البنك، وأن الوحدات الأمنية سارعت بتطويق المكان، وفق ما أورده موقع \"روسيا اليوم\" نقلا عن  صحيفة \"بيلد\" الألمانية.\n",
            " ...\n",
            "Actual label:internationalNews\n",
            "Predicted label: internationalNews\n",
            "\n",
            "\n",
            "لقي مهاجر غير شرعي مصرعه بعد أن أطلق مهربون ليبيون النار عليه بسبب قبعة كان يرتديها.\n",
            "وقال حفر السواحل الإيطالي إن عمال إنقاذ انتشلوا 560 مهاجرا من قوارب متهالكة قبالة ساحل ليبيا، من بينها جثة هذا الشاب، وفق ما أوردته وكالة \"رويترز\". وأوضح شهود عيان أن الشاب لقي مصرعه على أيدي مهربي بشر أرادوا الحصول على قبعة البيسبول التي كان يرتديها. يذكر أنه تم أيضا انقاذ شاب آخر أصيب برصاصة في المعدة.\n",
            " \n",
            " ...\n",
            "Actual label:internationalNews\n",
            "Predicted label: internationalNews\n",
            "\n",
            "\n",
            "تم صباح اليوم الإثنين 23 جانفي 2017 انتخاب مكتب المؤتمر الوطني للإتحاد العام التونسي للشغل بالإجماع .\n",
            "وفي مايلي تركيبة المكتب :  حسين العباسي : رئيس المؤتمر  مولدي الجندوبي : نائب رئيس فاروق العياري : نائب رئيس بلقاسم العياري : ناطق رسمي امنة عوادي : مقرر أول  حسان اليحمدي : مقرر ثان\n",
            " ...\n",
            "Actual label:localnews\n",
            "Predicted label: localnews\n",
            "\n",
            "\n",
            "كشفت صحيفة \"وول ستريت جورنال\" بتاريخ 22 فيفري 2017، أن السيناتور الأمريكي جون ماكين زار سرا شمال شرق سوريا في نهاية الأسبوع الماضي، وتحديدا مدينة عين العرب (كوباني).\n",
            "وقال مسؤولون للصحيفة إن زيارة السيناتور الديمقراطي ماكين غير العادية، نظمت بمساعدة من القوات الأمريكية، حيث التقى خلالها بمسؤولين عسكريين أمريكيين ومقاتلين أكراد في عين العرب (كوباني) التي يسيطر عليها المقاتلون السوريون الأكراد والواقعة على الحدود مع تركيا. وجاءت الزيارة في الوقت الذي تناقش فيه إدارة الرئيس الأمريكي دونالد ترامب خططا لحملة عسكرية متسارعة ضد تنظيم \"داعش\". ويعتقد أن زيارة ماكين، رئيس لجنة الخدمات المسلحة في مجلس الشيوخ، هذه إلى سوريا، هي الثانية بعد زيارة أولى كانت في عام 2013، عندما التقى مع قادة \"الجيش السوري الحر\". وفي بيان، أكد مكتب ماكين أن هذه ازيارة، مضيفا أن عضو مجلس الشيوخ \"سافر إلى شمال سوريا هذا الأسبوع لزيارة القوات الأمريكية المنتشرة هناك ولمناقشة حملة مكافحة داعش والعمليات الجارية لاستعادة السيطرة على مدينة الرقة السورية\". ويعتقد أن ماكين هو أول سيناتور أمريكي يسافر إلى منطقة يسيطر عليها الأكراد في شمال سوريا، منذ أن أصبحت تلك المنطقة مركزا لقوات العمليات الخاصة الأمريكية، التي تساند القوات المحلية في محاربة \"داعش\". وجاءت هذه الزيارة القصيرة في منتصف جولة ماكين الإقليمية التي تنقل خلالها من المملكة العربية السعودية إلى تركيا، حيث ناقش مع مسؤولي البلدين خططا لمواجهة خطر التنظيم في المنطقة. (صورة أرشيفية) \n",
            " ...\n",
            "Actual label:internationalNews\n",
            "Predicted label: internationalNews\n",
            "\n",
            "\n",
            "تمكنت قناة \"الجزيرة\"، اليوم السبت 17 جوان 2017 من استعادة حسابها الموثق على موقع \"تويتر\"، وذلك بعد ساعات من قرار إغلاقه من طرف الموقع، لكنها في المقابل خسرت 12 مليون متابع تم حذفهم من الحساب.\n",
            " ...\n",
            "Actual label:internationalNews\n",
            "Predicted label: internationalNews\n",
            "\n",
            "\n",
            "فاز فريق النادي الإفريقي عشية اليوم الأحد في نهائي دورة دانون للأمم في نسختها ال17 على المدرسة الابتدائية جربة ميدون بنتيجة عريضة (6-0).\n",
            "وبذلك سيمثل شبان الإفريقي تونس في الدورة العالمية لدانون للأمم للمرة الثانية على التوالي حيث ستدور المسابقة شهر سبتمبر المقبل في مدينة نيو جرسي بالولايات المتحدة الأمريكية.\n",
            " ...\n",
            "Actual label:sport\n",
            "Predicted label: sport\n",
            "\n",
            "\n",
            "أعلنت الشرطة الألمانية منذ قليل إلقاء القبض على متهم وصفته بال\"اسلامي\" مشتبه به في تفجير حافلة فريق دروتموند قرب الملعب الألماني مساء أمس دون ذكر تفاصيل أخرى عن هويته.  \n",
            " ...\n",
            "Actual label:internationalNews\n",
            "Predicted label: internationalNews\n",
            "\n",
            "\n",
            "أعلنت الشركة التونسية للكهرباء والغاز إقليم سوسة المدينة عن انقطاع التيار الكهربائي يوم الأحد 19 مارس 2017، من الساعة الثامنة صباحا إلى الساعة الثانية بعد الزوال بسبب أشغال صيانة.\n",
            "ويشمل انقطاع الكهرباء بسوسة كل من حي الرياض وحي الريحان وحي الزهور وهنشير ساسي وحي بوحسينة، أما في معتمدية مساكن فسيشمل المنطقة الممتدة من طريق القيروان إلى مصنع العجلات المطاطية \"الستيب\". وأوضحت الشركة أنه يقع إرجاع الكهرباء دون سابق إنذار حسب انتهاء الأشغال بالمناطق المذكورة.\n",
            " ...\n",
            "Actual label:localnews\n",
            "Predicted label: localnews\n",
            "\n",
            "\n",
            "تنتظم الدورة الاولى للمعرض الوطني للزربية، والذي تمتد فعالياته الى غاية يوم 15 جانفي 2017 ببادرة من الديوان بهدف ايجاد فرص للمنتجين والحرفيين والمؤسسات الحرفية لترويج منتوجاتهم بجهة الساحل.\n",
            "وسجلت الدورة مشاركة 20 عارضا في الجناح التجاري قدموا من كافة الجهات لعرض منتوجاتهم في اهم اختصاصات الزربية والنسيج. ووجهت الدعوة ل17 حرفية في اختصاص الزربية و النسيج الحائطي ونسيج الحايك من ولايات داخلية للمشاركة في فعاليات هذه الدورة وذلك في اطار تكريس مبدأ التمييز الإيجابي. فيما خصص جناح مجاني للباعثين الجدد من حاملي الشهادات العليا وخريجي مراكز التكوين الى جانب جناح لطلبة المدرسة العليا للمهندسين بالمنستير، شعبة هندسة النسيج، قدموا من خلاله تصاميمهم الى جانب عرض انجازات لحرفيات من ولاية المنستير في اختصاص النسيج اليدوي. كما تم تخصيص مساحة للمركز الفني للإبتكار والتجديد والإحاطة للزربية والحياكة وذلك للتعريف بمهام المركز وتقديم خدماته في اطار التأطير والإحاطة الفنية.\n",
            " ...\n",
            "Actual label:economy\n",
            "Predicted label: localnews\n",
            "\n",
            "\n",
            "دارت عشية اليوم الخميس مباريات الجولة الاولى من دورة المرحوم المنصف الحجار لكرة اليد \n",
            " نتائج الجولة الاولى : سان رفائييل  - نيم الفرنسي 31-28 الترجي الرياضي - دانكارك الفرنسي  28-28\n",
            " ...\n",
            "Actual label:sport\n",
            "Predicted label: sport\n",
            "\n",
            "\n",
            "تمنح مسالك السياحة البيئية، التي تم احداثها في الحدائق الوطنية ببوهدمة (سيدي بوزيد)، وجبيل (قبلي)، وغدومس (توزر)، لزوارها امكانية تقفي أثر الغزلان ومشاهدة قطيع المها والتمتع بمشاهدة ثروة حيوانية ونباتية لا مثيل لها.\n",
            "كما تتيح المسالك الجديدة، لعشاق الطبيعة، فرصة الولوج الى لوحات طبيعية رائعة تمزج بين المساحات الخضراء والمناطق الصحراوية القاحلة مرورا بمناطق شبيهة بالسفانا الافريقية. مسالك بيئية  ويندرج احداث هذه المسالك في اطار مشروع السياحة الايكولوجية والمحافظة على التنوع البيولوجي بتونس، الذي يتواصل انجازه خلال الفترة 2016 /2018، وذلك بالتعاون بين وزارة البيئة والادارة العامة للغابات والديوان الوطني للسياحة باعتمادات تقدر ب20ر4 مليون دينار، حسب ما اكده منسق المشروع مصطفى العروي. واضاف العروي في لقاء اعلامي، انتظم على هامش زيارة نظمتها وزارة الفلاحة لفائدة عدد من الاعلاميين الى حديقتي بوهدمة ودغموس، \"ان الهدف المنشود يتمثل في تمكين الزوار من التعرف على تنوع المنظومة البيئية بهذه الحدائق، وتثمين الامكانيات البيئة بها، فضلا عن الاستجابة لطلبات السياح المولعين بزيارة المواقع الطبيعية التي يستوطن بها الحيوان. وأوضح العروي أن المشروع قد وفر تمويلات لفائدة 215 مشروعا صغيرا انتفع بها عدد من سكان التجمعات السكانية المحاذية للحدائق، بهدف المصالحة بين الحدائق الوطنية والسكان. قطيع المها، ذو الجمال الأخاذ وفي الحديقة الوطنية ببوهدمة، الواقعة بين ولايتي قفصة وسيدي بوزيد، يعيش قطيع المها، ذو الجمال الأخاذ والعينان البيضاوان وسط غابات الطلح. يتجمع طيلة النهار ليستظل بشجرة الطلح بمحاذاة المسلك السياحي محدقا صوب اي سيارة تقل زوارا جدد للحديقة. أما الغزال، فيهرب بمجرد سماع صوت سيارة قادمة، مستعرضا رشاقته، يقوده الخوف من الوقوع فريسة أي خطر يتربص به، في حين يبدو النعام من بين أشد الحيوانات تطفلا على الزوار والحراس، حيث يهم بالاقتراب من منازل حراس الحديقة بحثا عن الطعام غير عابئ بأي خطر ولايبدي خوفا من عدسات تصوير الزوار. ويوجد بحديقة بوهدمة، التي تعد آخر مناطق السافانا في شمال أفريقيا، أنواع مختلفة من الطيور والجوارح والحشرات والقوارض، وقد خصصت الادارة العامة للغابات داخل الحديقة فضاءات للعناية بالتيس الأطلسي ولرعاية صغار الغزلان عند ولادتها. كما تمثل الكوبرا المصرية، التي يطلق عليها السكان المحليون اسم \"بوفطيرة\"، احدى أخطر الزواحف بالحديقة، الى جانب العقارب. وتشكل عين الشرشارة المزدانة بكساء أخضر من القصب، فضاءا مميزا يستطاب زيارته. وتوجد في سفح جبل بوهدمة، وتمثل أعلى نقاط المسلك السياحي البيئي بالحديقة. زيارات مقيدة   ويشهد عدد زوار الحديقة تزايدا هاما، وهم اساسا من التونسيين حسب ما اكده المهندس بالادارة العامة للغابات، يوسف بن علي. وبين بن علي، ان العديد من السياح يرغبون في زيارة الحديقة غير ان الزامية حصولهم على ترخيص مسبق، كما تنص على ذلك مجلة الغابات، يحول دون تحقيق رغبتهم. فمجلة الغابات تقيد، على حد قوله، عدد الزيارات وتفرض الحصول على ترخيص مسبق لزيارة هذه المحمية الطبيعية بالاضافة الى دفع معلوم مالي.\n",
            " ...\n",
            "Actual label:localnews\n",
            "Predicted label: localnews\n",
            "\n",
            "\n",
            "أعلنت وزارة الفلحة والموارد المائية والصيد البحري عن حجز 3 مراكب صيد مخالفة تنشط بخليج قابس مع مصادرة معداتها ومنتوجاتها وذلك خلال الفترة الممتدة بين خلال الفترة الممتدة بين 22 و28 أوت 2016 وذلك في إطار التصدي لظاهرة الصيد بالكيس.\n",
            "وكانت وزارة الفلاحة والموارد المائية والصيد البحري قد نبهت في العديد من المرات من المخاطر المحدقة بالثروة السمكية جراء ممارسة الصيد العشوائي مهما كان نوعه وأكدت على مقاومة هذه الظاهرة من خلال تطبيق القانون.\n",
            " ...\n",
            "Actual label:localnews\n",
            "Predicted label: localnews\n",
            "\n"
          ],
          "name": "stdout"
        }
      ]
    },
    {
      "cell_type": "markdown",
      "metadata": {
        "id": "atfanjtUDfx2"
      },
      "source": [
        "## **model : LSTM**"
      ]
    },
    {
      "cell_type": "code",
      "metadata": {
        "id": "WgpooepQ_n66"
      },
      "source": [
        "# input: a sequence of MAX_SEQUENCE_LENGTH integers\r\n",
        "sequence_input = Input(shape=(MAX_SEQUENCE_LENGTH,), dtype='int32')\r\n",
        "embedded_sequences = embedding_layer(sequence_input)\r\n",
        "\r\n",
        "x = LSTM(128, dropout=0.5, recurrent_dropout=0.2)(embedded_sequences)\r\n",
        "predictions = Dense(N_CLASSES, activation='softmax')(x)\r\n",
        "\r\n",
        "\r\n",
        "model = Model(sequence_input, predictions)\r\n",
        "model.compile(loss='categorical_crossentropy',\r\n",
        "              optimizer='adam',\r\n",
        "              metrics=['acc'])"
      ],
      "execution_count": 26,
      "outputs": []
    },
    {
      "cell_type": "code",
      "metadata": {
        "colab": {
          "base_uri": "https://localhost:8080/"
        },
        "id": "ZXz54cqW_zzw",
        "outputId": "ec9d3491-5c5b-4fb8-cee0-f04f6a3e9d02"
      },
      "source": [
        "model.fit(x_train, y_train, validation_split=0.1,\r\n",
        "          epochs=3, batch_size=64)"
      ],
      "execution_count": 28,
      "outputs": [
        {
          "output_type": "stream",
          "text": [
            "Epoch 1/3\n",
            "117/117 [==============================] - 97s 804ms/step - loss: 1.0686 - acc: 0.6590 - val_loss: 1.1861 - val_acc: 0.7024\n",
            "Epoch 2/3\n",
            "117/117 [==============================] - 94s 800ms/step - loss: 0.4489 - acc: 0.8638 - val_loss: 0.6878 - val_acc: 0.7759\n",
            "Epoch 3/3\n",
            "117/117 [==============================] - 94s 801ms/step - loss: 0.4252 - acc: 0.8698 - val_loss: 0.7298 - val_acc: 0.7940\n"
          ],
          "name": "stdout"
        },
        {
          "output_type": "execute_result",
          "data": {
            "text/plain": [
              "<tensorflow.python.keras.callbacks.History at 0x7f049a2f0d68>"
            ]
          },
          "metadata": {
            "tags": []
          },
          "execution_count": 28
        }
      ]
    },
    {
      "cell_type": "code",
      "metadata": {
        "colab": {
          "base_uri": "https://localhost:8080/"
        },
        "id": "LPDRVvPL_5Zv",
        "outputId": "6ba87fbd-836f-4a9a-c270-d9515cd85b2c"
      },
      "source": [
        "output_test = model.predict(x_test)\r\n",
        "print(\"test auc:\", roc_auc_score(y_test,output_test))"
      ],
      "execution_count": 29,
      "outputs": [
        {
          "output_type": "stream",
          "text": [
            "test auc: 0.9255229927089421\n"
          ],
          "name": "stdout"
        }
      ]
    },
    {
      "cell_type": "code",
      "metadata": {
        "colab": {
          "base_uri": "https://localhost:8080/"
        },
        "id": "HWwhduQUBEaX",
        "outputId": "7c589f79-3f90-43c3-acb0-095ccd0897b0"
      },
      "source": [
        "# Evaluate the accuracy of our trained model\r\n",
        "score = model.evaluate(x_test, y_test,\r\n",
        "                       batch_size=64, verbose=1)\r\n",
        "print('Test loss:', score[0])\r\n",
        "print('Test accuracy:', score[1])"
      ],
      "execution_count": 30,
      "outputs": [
        {
          "output_type": "stream",
          "text": [
            "33/33 [==============================] - 4s 111ms/step - loss: 0.7961 - acc: 0.7734\n",
            "Test loss: 0.7960547804832458\n",
            "Test accuracy: 0.7733847498893738\n"
          ],
          "name": "stdout"
        }
      ]
    },
    {
      "cell_type": "code",
      "metadata": {
        "id": "QEa5AIRBBMQl"
      },
      "source": [
        ""
      ],
      "execution_count": null,
      "outputs": []
    },
    {
      "cell_type": "markdown",
      "metadata": {
        "id": "am9slFOmBVtr"
      },
      "source": [
        "## **model : CNN - LSTM**"
      ]
    },
    {
      "cell_type": "code",
      "metadata": {
        "id": "B0a0_TM9BaQT"
      },
      "source": [
        "# input: a sequence of MAX_SEQUENCE_LENGTH integers\r\n",
        "sequence_input = Input(shape=(MAX_SEQUENCE_LENGTH,), dtype='int32')\r\n",
        "embedded_sequences = embedding_layer(sequence_input)\r\n",
        "\r\n",
        "# 1D convolution with 64 output channels\r\n",
        "x = Conv1D(64, 5)(embedded_sequences)\r\n",
        "# MaxPool divides the length of the sequence by 5\r\n",
        "x = MaxPooling1D(5)(x)\r\n",
        "x = Dropout(0.5)(x)\r\n",
        "x = Conv1D(64, 5)(x)\r\n",
        "x = MaxPooling1D(5)(x)\r\n",
        "# LSTM layer with a hidden size of 64\r\n",
        "x = Dropout(0.3)(x)\r\n",
        "x = LSTM(32)(x)\r\n",
        "predictions = Dense(N_CLASSES, activation='softmax')(x)\r\n",
        "\r\n",
        "model = Model(sequence_input, predictions)\r\n",
        "model.compile(loss='categorical_crossentropy',\r\n",
        "              optimizer='adam',\r\n",
        "              metrics=['acc'])"
      ],
      "execution_count": 31,
      "outputs": []
    },
    {
      "cell_type": "code",
      "metadata": {
        "colab": {
          "base_uri": "https://localhost:8080/"
        },
        "id": "12qiQLZwBiVt",
        "outputId": "4924f0e2-456e-4496-dc48-b34b3375da36"
      },
      "source": [
        "model.fit(x_train, y_train, validation_split=0.1,\r\n",
        "          epochs=3, batch_size=128)"
      ],
      "execution_count": 32,
      "outputs": [
        {
          "output_type": "stream",
          "text": [
            "Epoch 1/3\n",
            "59/59 [==============================] - 11s 145ms/step - loss: 1.3756 - acc: 0.5690 - val_loss: 0.7039 - val_acc: 0.7783\n",
            "Epoch 2/3\n",
            "59/59 [==============================] - 8s 136ms/step - loss: 0.4760 - acc: 0.8575 - val_loss: 0.6282 - val_acc: 0.7892\n",
            "Epoch 3/3\n",
            "59/59 [==============================] - 8s 137ms/step - loss: 0.3371 - acc: 0.8974 - val_loss: 0.6120 - val_acc: 0.7976\n"
          ],
          "name": "stdout"
        },
        {
          "output_type": "execute_result",
          "data": {
            "text/plain": [
              "<tensorflow.python.keras.callbacks.History at 0x7f0498a08940>"
            ]
          },
          "metadata": {
            "tags": []
          },
          "execution_count": 32
        }
      ]
    },
    {
      "cell_type": "code",
      "metadata": {
        "colab": {
          "base_uri": "https://localhost:8080/"
        },
        "id": "Nr-008FUBq-n",
        "outputId": "1e7c5f5d-a0fa-4a64-e0a1-664ebffec20a"
      },
      "source": [
        "# Evaluate the accuracy of our trained model\r\n",
        "score = model.evaluate(x_test, y_test,\r\n",
        "                       batch_size=64, verbose=1)\r\n",
        "print('Test loss:', score[0])\r\n",
        "print('Test accuracy:', score[1])"
      ],
      "execution_count": 33,
      "outputs": [
        {
          "output_type": "stream",
          "text": [
            "33/33 [==============================] - 1s 19ms/step - loss: 0.6827 - acc: 0.7792\n",
            "Test loss: 0.6827487349510193\n",
            "Test accuracy: 0.7791706919670105\n"
          ],
          "name": "stdout"
        }
      ]
    },
    {
      "cell_type": "code",
      "metadata": {
        "colab": {
          "base_uri": "https://localhost:8080/"
        },
        "id": "VUYZPUTGBzXi",
        "outputId": "6cf5caf3-63aa-438e-d326-1103682b50cc"
      },
      "source": [
        "output_test = model.predict(x_test)\r\n",
        "print(\"test auc:\", roc_auc_score(y_test,output_test))"
      ],
      "execution_count": 34,
      "outputs": [
        {
          "output_type": "stream",
          "text": [
            "test auc: 0.939903773771584\n"
          ],
          "name": "stdout"
        }
      ]
    },
    {
      "cell_type": "code",
      "metadata": {
        "colab": {
          "base_uri": "https://localhost:8080/"
        },
        "id": "Hzlu8fV5B45G",
        "outputId": "fe5cacc1-9d4c-4bd0-e668-f8c3c30591d1"
      },
      "source": [
        "# Here's how to generate a prediction on individual examples\r\n",
        "text_labels = encoder.classes_ \r\n",
        "\r\n",
        "for i in range(10):\r\n",
        "    prediction = model.predict(np.array([x_test[i]]))\r\n",
        "    predicted_label = text_labels[np.argmax(prediction)]\r\n",
        "    print(texts_test.iloc[i], \"...\")\r\n",
        "    print('Actual label:' + test_y.iloc[i])\r\n",
        "    print(\"Predicted label: \" + predicted_label + \"\\n\") "
      ],
      "execution_count": 35,
      "outputs": [
        {
          "output_type": "stream",
          "text": [
            "\n",
            "قامت وحدات اقليم شرطة نابل بمداهمة مخزن عشوائي في ساعة متأخرة من ليلة أمس بعد الحصول على الأذون اللازمة من وكيل الجمهورية وتمكنت من حجز 120 قارورة غاز معدة للإستعمال المنزلي و130 قارورة غاز صغيرة الحجم وآلة لضخ البنزين .\n",
            "وتم ايقاف صاحب المخزن العشوائي بجهة بني خيار و2 من مساعديه إذ تبين بعد التحقيق الأولي أن أحدهم مفتش عنه لدى مختلف الوحدات الأمنية بنابل. وقد تمت المداهمة وفق ما ذكرته مراسلة الجوهرة \"اف ام\" بالجهة اثر ورود معلومات بهذا الخصوص وتم ايقاف المتهمين وتحرير محضر في الغرض.\n",
            " ...\n",
            "Actual label:localnews\n",
            "Predicted label: localnews\n",
            "\n",
            "\n",
            "تم مساء اليوم الثلاثاء، خلال جلسة عامة لمجلس نواب الشعب، التصويت بالرفض على مقترح مجموعة من النواب بإحداث لجنة تحقيق برلمانية للنظر في شبهة فساد مالي وإداري ضد رئيسة هيئة الحقيقة والكرامة، سهام بن سدرين.\n",
            "وصوت 82 نائبا بنعم، واحتفظ نائبان بصوتهما في حين عارض هذا المقترح 80 نائبا، ليتم إسقاطه. وأوضح، عبد الفتاح مورو، نائب رئيس مجلس نواب الشعب، الذي ترأس الجلسة العامة بالبرلمان أن الفصل 97 من النظام الداخلي ينص على أن اللجان تكون بأغلبية الحضور، وبالتالي لم يتحقق هذا الشرط القانوني لتكوين اللجنة نظرا إلى تسجيل الحضور ب163 نائبا فقط، مما يستوجب تصويت 83 نائبا لصالح تكوين لجنة التحقيق.\n",
            " ...\n",
            "Actual label:politic\n",
            "Predicted label: politic\n",
            "\n",
            "\n",
            "أمضى ثلاثون عضوا بمجلس نواب الشعب، خلال جلسة عامة إنعقدت اليوم الثلاثاء، على عريضة للتعبير عن إستيائهم من تصريحات الوزير الأول الفرنسي السابق مانوال فالس، التي قال فيها \"إن الحجاب مفروض على النساء في تونس مثلما هو الحال في إيران\".\n",
            "وأفادت النائبة ليلى أولاد علي عن كتلة حركة نداء تونس بالبرلمان، في تصريح لوكالة تونس إفريقيا للأنباء، بأن الممضين على العريضة ينتمون إلى أحزاب مختلفة، وأنه من المرجح أن يرتفع عددهم خلال الأيام المقبلة، مشيرة الى أنه سيتم فتح العريضة أمام ممثلي المجتمع المدني. كما شددت على \"ضرورة ان يقوم مانوال فالس بتقديم اعتذاراته للتونسيات\"، مذكرة بأن تونس تعتبر رائدة في مجال حماية حقوق المرأة في العالم العربي. وأبرزت النائبة تشبث المرأة التونسية بحريتها، وإصرارها على عدم التخلي عن مكاسبها التي ناضلت من أجلها طويلا، مبينة أن مكاسب المرأة التونسية قد تدعمت، وأنها تحظى بإمتيازات عديدة مقارنة بنظيراتها في بعض البلدان الأوروبية. وأكدت أنه سيتم قريبا التقدم بطلب في حق الرد، معتبرة أن \"مانوال فالس، الذي قدم ترشحه لرئاسة الجمهورية، أدلى بتلك التصريحات في إطار حملته الانتخابية وليس عن جهل\"، وفق تقديرها. وكان مانوال فالس، الذي حل الاسبوع الماضي ضيفا على حصة \"البرنامج السياسي\" على القناة الفرنسية الثانية \"france2\"، صرح بأن \"الحجاب مفروض على النساء في تونس مثلما هو الحال في إيران\"، مضيفا أن \"النساء اللاتي فرض عليهن الحجاب يناضلن من أجل نزعه\".\n",
            " ...\n",
            "Actual label:politic\n",
            "Predicted label: politic\n",
            "\n",
            "\n",
            "أفاد المكلف بالإعلام بوزارة الداخلية، وليد الوقيني، أنه تم اليوم السبت، في ولاية قفصة، العثور على عون أمن من وحدات التدخل مقتولا وملقى على الطريق، بحسب ما أوردته وكالة الأنباء الرسمية \"وات\".\n",
            "وأوضح الوقيني أن عون الأمن كان بزيه المدني وكانت على وجهه آثار عنف وزرقة، مبينا أن الأبحاث جارية للتعرف على أسباب الوفاة.  وبحسب مصادر أمنية فإن الضحية يدعى عبيد الدريدي، ناظر امن تابع لفوج تدخل الشرطة بقفصة وتم العثور على جثته مساء اليوم بواد بياش بولاية قفصة.\n",
            " ...\n",
            "Actual label:localnews\n",
            "Predicted label: localnews\n",
            "\n",
            "\n",
            "تعطلت حركة معبر الذهيبة-وازن بتطاوين بسبب الاحتجاجات التي ينفذها عدد من شباب الجهة للمطالبة بالتشغيل والتنمية منذ أيام.\n",
            "وقال مصدر أمني لوكالة تونس افريقيا للأنباء إن الشباب المحتج لا يسمح الا بمرور مواطني كل بلد (من تونس وليبيا)، بالاضافة الى الحالات الاستعجالية. وأضاف أن المعبر لم يغلق بصفة رسمية وانما يشهد اضطرابات بسبب الاحتجاجات، مشيرا الى ان المرور من ليبيا الى تونس يشهد بدوره اضطرابا نظرا لما اعتبره الليبيون \"غيابا للامن\" بسبب الاحتجاجات التي يعيشها الجنوب التونسي.\n",
            " ...\n",
            "Actual label:localnews\n",
            "Predicted label: localnews\n",
            "\n",
            "\n",
            "أكد رئيس الجامعة التوسية لكرة القدم أنه تقرر تسليم رمز بطولة الرابطة المحترفة الاولى لكرة القدم بعد غد الخميس بملعب رادس اثر انتهاء مباراة الترجي الرياضي والنجم الساحلي التي تعد بمثابة مقابلة الدور النهائي للبطولة باعتبار وان امر اللقب سيحسم في الجولة الختامية من مرحلة التتويج بين المتصدر الترجي الرياضي (23 نقطة) وملاحقه النجم الساحلي (22 نقطة).\n",
            "و بيّن رئيس الجامعة أن الترتيب النهائي للبطولة يسمح للجامعة قانونيا بسليم اللقب يوم الخميس لصاحب المرتبة الأولى و أنه لا وجود , إلى حد الآن لأي مانع قانوني يطالب الجامعة بتعليق تسليم اللقب في إشارة إلى الملف المزمع رفعه إلى المحكمة الرياضية الدولية من قبل مسؤولي النجم مضيفا أنه سيتعامل مع كل طارئ في وقته مستشهدا بأحجاث سابقة شهدتها الألعاب الأولمبية التي قررت في مناسبة عدة سحب بعض الميداليات و إعادة منحها إلى رياضيين آخرين .\n",
            " ...\n",
            "Actual label:sport\n",
            "Predicted label: sport\n",
            "\n",
            "\n",
            "منسج كسوة الكعبة المشرفة كان حاضرا لأول مرة بتونس، وذلك بجناح المملكة العربية السعودية بفضاء قصر المعارض بالكرم في إطار الدورة 33 لمعرض تونس الدولي للكتاب الذي يسدل عليه الستار يوم الأحد، وقد أتاح وجود ناسج يعمل في مصنع كسوة الكعبة في مكة المكرمة، نقل عملية النسج أمام أنظار الوافدين على المعرض.\n",
            "وفي حديث لوكالة تونس افريقيا للانباء \"وات\"، بين الدكتور محمد التوم الملحق الثقافي بسفارة المملكة العربية بتونس، أن الذي يقوم بعملية النسج بالجناح هو أحد الموظفين المختصين في صناعة كسوة الكعبة المشرفة في قسم النسيج اليدوي حيث يقوم بنسج الآيات القرآنية بسلك من النحاس مطلي بماء الذهب الخالص على حرير صافي، وتصنع الكسوة كاملة في مكة المكرمة. وأوضح أن المنسج الموجود في الجناح ليس نموذجا للكسوة وإنما هو جزء من الكسوة الجديدة التي يجري تطريزها حاليا لإكساء الكعبة الشريفة في موسم الحج المقبل. واعتبر في هذا الصدد، أن \"تقديم مشهد من الأماكن المقدسة في تظاهرة ثقافية دولية ألا وهو طرز جزء من كسوة الكعبة الشريفة يعكس نبل الرسالة الثقافية الحقيقية\" التي وصفها بالمقدسة والراقية. واشار إلى أن عملية التطريز التي أمكن لزوار المعرض على امتداد أكثر من أسبوع، مشاهدتها، تم تطعيمها بصور لمكة المكرمة والمدينة المنورة مصحوبة بشرح كامل لعناصر كل صورة، مضيفا أن معهد خادم الحرمين الشريفين لأبحاث الحج والعمرة وفر كذلك مطويات ووثائق تعريفية للأماكن المقدسة ومناسك الحج والعمرة. وجدير بالذكر أن جناح المملكة العربية السعودية سجل مشاركة وزارة التعليم العام والتعليم العالي السعودية ووزارة الشؤون الإسلامية السعودية وجامعة الملك سعود وجامعة الإمام وجامعة أم القرى والجامعة الإسلامية وجامعة طيبة وجامعة نايف العربية للعلوم الأمنية ومكتبة الملك عبد العزيز الوطنية ومكتبة الملك فهد الوطنية ودار الملك عبد العزيز التي تعنى بالمخطوطات والتاريخ والتراث.\n",
            " ...\n",
            "Actual label:culture\n",
            "Predicted label: localnews\n",
            "\n",
            "\n",
            "راجت منذ قليل أنباء عن استقالة ناجي جلول من حركة نداء تونس بعد قرار رئيس الحكومة اقالته مساء أمس الأحد من وزارة التربية وقد نفت مصادر مطلعة للجوهرة \"اف ام\" صحة هذه الأخبار.\n",
            " ...\n",
            "Actual label:localnews\n",
            "Predicted label: localnews\n",
            "\n",
            "\n",
            "أصدرت الجامعة التونسية لكرة القدم اليوم بلاغا ردا على بيان التلفزة التونسية بخصوص النقل التلفزي لمقابلات الجولة الأولى إياب من مرحلة التتويج لبطولة الرابطة المحترفة الأولى .\n",
            "و نفت الجامعة ما ورد في بيان التلفزة الوطنية الصادر مؤخرا حول اختيار التلفزة الوطنية بث مقابلة كلاسيكو النادي الصفاقسي و النادي الافريقي في المقام الاول مشيرة أن رئيس مصلحة الرياضة قد وجه مراسلة للجامعة تشير إلى إختيار مبارة الترجي الرياضي التونسي و نجم المتلوي لتكون الخيار الأول . و أضافت الجامعة أن التلفزة الوطنية تحاول الضغط عليها للحصول على حقوق بث مقابلات خارج إطار العقد المبرم بين الطرفين . وفي ما يلي نص البلاغ :  \n",
            " ...\n",
            "Actual label:sport\n",
            "Predicted label: sport\n",
            "\n",
            "\n",
            "خسرت تونس خلال الفترة الممتدة بين سنتي 2011 و 2015 قرابة 3 نقاط في نسق النمو من قرابة 4.5 % خلال الفترة من 2000 إلى 2010 الى 1.5 % وقرابة 28 مليون دينار كان يمكن تحصيلها لو واصل الاقتصاد التونسي عمله بصفة طبيعية بعد الثورة، حسب ما اكده خبراء اقتصاديون في الجلسة الاولى لمنتدى الجمعية التونسية للاقتصاديين الذي ينتظم يومي 27 و 28 ماي بالحمامات حول \"اشكاليات الاصلاح في فترة الانتقال\".\n",
            "وشدد المتدخلون بالمناسبة على ان الرفع من الانتاجية واعادة نشر ثقافة العمل والجهد ومضاعفة مشاركة المراة في سوق الشغل من 28 %حاليا الى اكثر من 50 % خلال العقدين القادمين تبقى من بين ابرز المسارات التي يجب انتهاجها للنجاح في تحقيق التنمية والاستجابة لتطلعات تونس الجديدة تونس ما بعد الثورة.\n",
            " ...\n",
            "Actual label:economy\n",
            "Predicted label: localnews\n",
            "\n"
          ],
          "name": "stdout"
        }
      ]
    },
    {
      "cell_type": "code",
      "metadata": {
        "id": "XgdTTAWhB_qK"
      },
      "source": [
        ""
      ],
      "execution_count": null,
      "outputs": []
    }
  ]
}